{
 "cells": [
  {
   "cell_type": "markdown",
   "metadata": {
    "id": "-nlxnl8EOhUU"
   },
   "source": [
    "# Dataset preparation for healthy-unhealthy classification & disease classification"
   ]
  },
  {
   "cell_type": "code",
   "execution_count": 1,
   "metadata": {
    "id": "b73M7GqbNczc"
   },
   "outputs": [],
   "source": [
    "import csv\n",
    "import pandas as pd\n",
    "import scipy.io\n",
    "import numpy as np\n",
    "import h5py"
   ]
  },
  {
   "cell_type": "code",
   "execution_count": 3,
   "metadata": {
    "id": "BarJ71GrOMQx"
   },
   "outputs": [],
   "source": [
    "healthy = np.loadtxt(r'D:\\4-2MajorProject\\Sleep-Disorder-Classification-Using-DL\\datasets\\BalancedData\\bal_healthy.csv', delimiter=',')\n",
    "ins = np.loadtxt(r'D:\\4-2MajorProject\\Sleep-Disorder-Classification-Using-DL\\datasets\\BalancedData\\bal_ins.csv', delimiter=',')\n",
    "nfle = np.loadtxt(r'D:\\4-2MajorProject\\Sleep-Disorder-Classification-Using-DL\\datasets\\BalancedData\\bal_nfle.csv', delimiter=',')\n",
    "narco = np.loadtxt(r'D:\\4-2MajorProject\\Sleep-Disorder-Classification-Using-DL\\datasets\\BalancedData\\bal_narco.csv', delimiter=',')\n",
    "rbd = np.loadtxt(r'D:\\4-2MajorProject\\Sleep-Disorder-Classification-Using-DL\\datasets\\BalancedData\\bal_rbd.csv', delimiter=',')\n",
    "plm = np.loadtxt(r'D:\\4-2MajorProject\\Sleep-Disorder-Classification-Using-DL\\datasets\\BalancedData\\bal_plm.csv', delimiter=',')"
   ]
  },
  {
   "cell_type": "markdown",
   "metadata": {
    "id": "cjJk78_KPzbp"
   },
   "source": [
    "## Healthy-unhealthy dataset"
   ]
  },
  {
   "cell_type": "markdown",
   "metadata": {
    "id": "xLJJcERuPzbt"
   },
   "source": [
    "### Both phases"
   ]
  },
  {
   "cell_type": "code",
   "execution_count": 6,
   "metadata": {
    "colab": {
     "base_uri": "https://localhost:8080/"
    },
    "id": "EWNsYPqkP28Q",
    "outputId": "0ad613e6-fae2-4776-dbb1-a07dc3cb2a8c"
   },
   "outputs": [
    {
     "name": "stdout",
     "output_type": "stream",
     "text": [
      "samples of healthy subjects: 9300\n",
      "samples of each disorders: 1860\n",
      "samples of unhealthy subjects: 9300\n",
      "Total samples: 18600\n"
     ]
    }
   ],
   "source": [
    "n1=np.shape(healthy)[0]\n",
    "n = (n1//10)*10   # 2 phases of 5 disorders each = 10\n",
    "n11=int(n/2)\n",
    "n12=int(n11/3)\n",
    "print('samples of healthy subjects:', n)\n",
    "n2=int(n/5)\n",
    "n3=int(n2/2)\n",
    "n4=int(n3/3)\n",
    "print('samples of each disorders:', n2)\n",
    "print('samples of unhealthy subjects:', n)\n",
    "total=int(2*n)\n",
    "print('Total samples:', total)"
   ]
  },
  {
   "cell_type": "code",
   "execution_count": 8,
   "metadata": {
    "id": "4DU2UQhPQJcd"
   },
   "outputs": [],
   "source": [
    "data=np.zeros([total, 1026])\n",
    "\n",
    "# healthy\n",
    "i=0\n",
    "rows=np.where(healthy[:,1024]==0)\n",
    "data[i:i+n11,0:1025]=healthy[rows][0:n11,:]\n",
    "i+=n11\n",
    "rows=np.where(healthy[:,1024]==1)\n",
    "data[i:i+n12,0:1025]=healthy[rows][0:n12,:]\n",
    "i+=n12\n",
    "rows=np.where(healthy[:,1024]==2)\n",
    "data[i:i+n12,0:1025]=healthy[rows][0:n12,:]\n",
    "i+=n12\n",
    "rows=np.where(healthy[:,1024]==3)\n",
    "data[i:i+n12,0:1025]=healthy[rows][0:n12,:]\n",
    "i+=n12\n",
    "\n",
    "# insomnia\n",
    "rows=np.where(ins[:,1024]==0)\n",
    "data[i:i+n3,0:1025]=ins[rows][0:n3,:]\n",
    "i+=n3\n",
    "rows=np.where(ins[:,1024]==1)\n",
    "data[i:i+n4,0:1025]=ins[rows][0:n4,:]\n",
    "i+=n4\n",
    "rows=np.where(ins[:,1024]==2)\n",
    "data[i:i+n4,0:1025]=ins[rows][0:n4,:]\n",
    "i+=n4\n",
    "rows=np.where(ins[:,1024]==3)\n",
    "data[i:i+n4,0:1025]=ins[rows][0:n4,:]\n",
    "i+=n4\n",
    "\n",
    "# nfle\n",
    "rows=np.where(nfle[:,1024]==0)\n",
    "data[i:i+n3,0:1025]=nfle[rows][0:n3,:]\n",
    "i+=n3\n",
    "rows=np.where(nfle[:,1024]==1)\n",
    "data[i:i+n4,0:1025]=nfle[rows][0:n4,:]\n",
    "i+=n4\n",
    "rows=np.where(nfle[:,1024]==2)\n",
    "data[i:i+n4,0:1025]=nfle[rows][0:n4,:]\n",
    "i+=n4\n",
    "rows=np.where(nfle[:,1024]==3)\n",
    "data[i:i+n4,0:1025]=nfle[rows][0:n4,:]\n",
    "i+=n4\n",
    "\n",
    "# narcolepsy\n",
    "rows=np.where(narco[:,1024]==0)\n",
    "data[i:i+n3,0:1025]=narco[rows][0:n3,:]\n",
    "i+=n3\n",
    "rows=np.where(narco[:,1024]==1)\n",
    "data[i:i+n4,0:1025]=narco[rows][0:n4,:]\n",
    "i+=n4\n",
    "rows=np.where(narco[:,1024]==2)\n",
    "data[i:i+n4,0:1025]=narco[rows][0:n4,:]\n",
    "i+=n4\n",
    "rows=np.where(narco[:,1024]==3)\n",
    "data[i:i+n4,0:1025]=narco[rows][0:n4,:]\n",
    "i+=n4\n",
    "\n",
    "# rbd\n",
    "rows=np.where(rbd[:,1024]==0)\n",
    "data[i:i+n3,0:1025]=rbd[rows][0:n3,:]\n",
    "i+=n3\n",
    "rows=np.where(rbd[:,1024]==1)\n",
    "data[i:i+n4,0:1025]=rbd[rows][0:n4,:]\n",
    "i+=n4\n",
    "rows=np.where(rbd[:,1024]==2)\n",
    "data[i:i+n4,0:1025]=rbd[rows][0:n4,:]\n",
    "i+=n4\n",
    "rows=np.where(rbd[:,1024]==3)\n",
    "data[i:i+n4,0:1025]=rbd[rows][0:n4,:]\n",
    "i+=n4\n",
    "\n",
    "# plm\n",
    "rows=np.where(plm[:,1024]==0)\n",
    "data[i:i+n3,0:1025]=plm[rows][0:n3,:]\n",
    "i+=n3\n",
    "rows=np.where(plm[:,1024]==1)\n",
    "data[i:i+n4,0:1025]=plm[rows][0:n4,:]\n",
    "i+=n4\n",
    "rows=np.where(plm[:,1024]==2)\n",
    "data[i:i+n4,0:1025]=plm[rows][0:n4,:]\n",
    "i+=n4\n",
    "rows=np.where(plm[:,1024]==3)\n",
    "data[i:i+n4,0:1025]=plm[rows][0:n4,:]\n",
    "i+=n4\n",
    "\n",
    "# labelling unhealthy\n",
    "data[n:total,1025]=1\n",
    "np.savetxt(r'D:\\4-2MajorProject\\Sleep-Disorder-Classification-Using-DL\\datasets\\healthy_unhealthy_classification\\healthy_unhealthy1.csv', data, delimiter=',')"
   ]
  },
  {
   "cell_type": "code",
   "execution_count": 9,
   "metadata": {
    "colab": {
     "base_uri": "https://localhost:8080/"
    },
    "id": "3vEZ1XNraWtr",
    "outputId": "eb81b864-9597-4a96-cef6-e79a4ec37852"
   },
   "outputs": [
    {
     "name": "stdout",
     "output_type": "stream",
     "text": [
      "(1, 9300)\n",
      "(1, 3100)\n",
      "(1, 3100)\n",
      "(1, 3100)\n"
     ]
    }
   ],
   "source": [
    "rows=np.where(data[:,1024]==0)\n",
    "print(np.shape(rows))\n",
    "rows=np.where(data[:,1024]==1)\n",
    "print(np.shape(rows))\n",
    "rows=np.where(data[:,1024]==2)\n",
    "print(np.shape(rows))\n",
    "rows=np.where(data[:,1024]==3)\n",
    "print(np.shape(rows))"
   ]
  },
  {
   "cell_type": "markdown",
   "metadata": {
    "id": "2TiU1mYgUnSr"
   },
   "source": [
    "### B phase"
   ]
  },
  {
   "cell_type": "code",
   "execution_count": 10,
   "metadata": {
    "id": "MJPVCtO2Upu_"
   },
   "outputs": [],
   "source": [
    "data = np.loadtxt(r'D:\\4-2MajorProject\\Sleep-Disorder-Classification-Using-DL\\datasets\\healthy_unhealthy_classification\\healthy_unhealthy1.csv', delimiter=',')\n",
    "rows = np.where(data[:,1024]==0)\n",
    "dataB=np.empty([int(np.shape(data)[0]/2), np.shape(data)[1]])\n",
    "dataB=data[rows]\n",
    "np.savetxt(r'D:\\4-2MajorProject\\Sleep-Disorder-Classification-Using-DL\\datasets\\healthy_unhealthy_classification\\healthy_unhealthyB.csv', dataB, delimiter=',')"
   ]
  },
  {
   "cell_type": "markdown",
   "metadata": {
    "id": "jiC2bzLjV85U"
   },
   "source": [
    "### A phase"
   ]
  },
  {
   "cell_type": "code",
   "execution_count": 11,
   "metadata": {
    "id": "0A9ja4u3V85W"
   },
   "outputs": [],
   "source": [
    "data = np.loadtxt(r'D:\\4-2MajorProject\\Sleep-Disorder-Classification-Using-DL\\datasets\\healthy_unhealthy_classification\\healthy_unhealthy1.csv', delimiter=',')\n",
    "n1=int(np.shape(data)[0]/2)\n",
    "n2=int(n1/3)\n",
    "dataA=np.empty([n1, np.shape(data)[1]])\n",
    "rows = np.where(data[:,1024]==1)\n",
    "dataA[0:n2]=data[rows]\n",
    "rows = np.where(data[:,1024]==2)\n",
    "dataA[n2:2*n2]=data[rows]\n",
    "rows = np.where(data[:,1024]==3)\n",
    "dataA[2*n2:3*n2]=data[rows]\n",
    "np.savetxt(r'D:\\4-2MajorProject\\Sleep-Disorder-Classification-Using-DL\\datasets\\healthy_unhealthy_classification\\healthy_unhealthyA.csv', dataA, delimiter=',')"
   ]
  },
  {
   "cell_type": "markdown",
   "metadata": {
    "id": "n8uAEV6hWWFj"
   },
   "source": [
    "## Disease classification dataset"
   ]
  },
  {
   "cell_type": "code",
   "execution_count": 12,
   "metadata": {
    "colab": {
     "base_uri": "https://localhost:8080/"
    },
    "id": "QlgJem_JWZ6e",
    "outputId": "1056986c-a649-4251-b668-2daa23df53d6"
   },
   "outputs": [
    {
     "name": "stdout",
     "output_type": "stream",
     "text": [
      "Available Samples of ins: 9960\n",
      "Available Samples of nfle: 75576\n",
      "Available Samples of narco: 9558\n",
      "Available Samples of rbd: 44100\n",
      "Available Samples of plm: 17934\n",
      "Samples considered of each disease: 9558\n",
      "Total samples: 47790\n"
     ]
    }
   ],
   "source": [
    "n1=np.shape(ins)[0]\n",
    "n2=np.shape(nfle)[0]\n",
    "n3=np.shape(narco)[0]\n",
    "n4=np.shape(rbd)[0]\n",
    "n5=np.shape(plm)[0]\n",
    "n_min=min(n1, n2, n3, n4, n5)\n",
    "print('Available Samples of ins:', n1)\n",
    "print('Available Samples of nfle:', n2)\n",
    "print('Available Samples of narco:', n3)\n",
    "print('Available Samples of rbd:', n4)\n",
    "print('Available Samples of plm:', n5)\n",
    "print('Samples considered of each disease:', n_min)\n",
    "n3=int(n_min/2)\n",
    "n4=int(n3/3)\n",
    "total=int(n_min*5)\n",
    "print('Total samples:', total)"
   ]
  },
  {
   "cell_type": "code",
   "execution_count": 13,
   "metadata": {
    "id": "xV5QxBmyW_sp"
   },
   "outputs": [],
   "source": [
    "data=np.zeros([total, 1026])\n",
    "\n",
    "i=0\n",
    "i1=0\n",
    "# insomnia\n",
    "rows=np.where(ins[:,1024]==0)\n",
    "data[i:i+n3,0:1025]=ins[rows][0:n3,:]\n",
    "i+=n3\n",
    "rows=np.where(ins[:,1024]==1)\n",
    "data[i:i+n4,0:1025]=ins[rows][0:n4,:]\n",
    "i+=n4\n",
    "rows=np.where(ins[:,1024]==2)\n",
    "data[i:i+n4,0:1025]=ins[rows][0:n4,:]\n",
    "i+=n4\n",
    "rows=np.where(ins[:,1024]==3)\n",
    "data[i:i+n4,0:1025]=ins[rows][0:n4,:]\n",
    "i+=n4\n",
    "data[i1:i,-1]=0\n",
    "i1=i\n",
    "\n",
    "# nfle\n",
    "rows=np.where(nfle[:,1024]==0)\n",
    "data[i:i+n3,0:1025]=nfle[rows][0:n3,:]\n",
    "i+=n3\n",
    "rows=np.where(nfle[:,1024]==1)\n",
    "data[i:i+n4,0:1025]=nfle[rows][0:n4,:]\n",
    "i+=n4\n",
    "rows=np.where(nfle[:,1024]==2)\n",
    "data[i:i+n4,0:1025]=nfle[rows][0:n4,:]\n",
    "i+=n4\n",
    "rows=np.where(nfle[:,1024]==3)\n",
    "data[i:i+n4,0:1025]=nfle[rows][0:n4,:]\n",
    "i+=n4\n",
    "data[i1:i,-1]=1\n",
    "i1=i\n",
    "\n",
    "# narcolepsy\n",
    "rows=np.where(narco[:,1024]==0)\n",
    "data[i:i+n3,0:1025]=narco[rows][0:n3,:]\n",
    "i+=n3\n",
    "rows=np.where(narco[:,1024]==1)\n",
    "data[i:i+n4,0:1025]=narco[rows][0:n4,:]\n",
    "i+=n4\n",
    "rows=np.where(narco[:,1024]==2)\n",
    "data[i:i+n4,0:1025]=narco[rows][0:n4,:]\n",
    "i+=n4\n",
    "rows=np.where(narco[:,1024]==3)\n",
    "data[i:i+n4,0:1025]=narco[rows][0:n4,:]\n",
    "i+=n4\n",
    "data[i1:i,-1]=2\n",
    "i1=i\n",
    "\n",
    "# rbd\n",
    "rows=np.where(rbd[:,1024]==0)\n",
    "data[i:i+n3,0:1025]=rbd[rows][0:n3,:]\n",
    "i+=n3\n",
    "rows=np.where(rbd[:,1024]==1)\n",
    "data[i:i+n4,0:1025]=rbd[rows][0:n4,:]\n",
    "i+=n4\n",
    "rows=np.where(rbd[:,1024]==2)\n",
    "data[i:i+n4,0:1025]=rbd[rows][0:n4,:]\n",
    "i+=n4\n",
    "rows=np.where(rbd[:,1024]==3)\n",
    "data[i:i+n4,0:1025]=rbd[rows][0:n4,:]\n",
    "i+=n4\n",
    "data[i1:i,-1]=3\n",
    "i1=i\n",
    "\n",
    "# plm\n",
    "rows=np.where(plm[:,1024]==0)\n",
    "data[i:i+n3,0:1025]=plm[rows][0:n3,:]\n",
    "i+=n3\n",
    "rows=np.where(plm[:,1024]==1)\n",
    "data[i:i+n4,0:1025]=plm[rows][0:n4,:]\n",
    "i+=n4\n",
    "rows=np.where(plm[:,1024]==2)\n",
    "data[i:i+n4,0:1025]=plm[rows][0:n4,:]\n",
    "i+=n4\n",
    "rows=np.where(plm[:,1024]==3)\n",
    "data[i:i+n4,0:1025]=plm[rows][0:n4,:]\n",
    "i+=n4\n",
    "data[i1:i,-1]=4\n",
    "i1=i\n",
    "\n",
    "np.savetxt(r'D:\\4-2MajorProject\\Sleep-Disorder-Classification-Using-DL\\datasets\\disease_classification\\both_phases.csv', data, delimiter=',')"
   ]
  },
  {
   "cell_type": "markdown",
   "metadata": {
    "id": "u_PYgyTIj6R0"
   },
   "source": [
    "### B phase"
   ]
  },
  {
   "cell_type": "code",
   "execution_count": 14,
   "metadata": {
    "id": "IxV51_upj6R1"
   },
   "outputs": [],
   "source": [
    "data = np.loadtxt(r'D:\\4-2MajorProject\\Sleep-Disorder-Classification-Using-DL\\datasets\\disease_classification\\both_phases.csv', delimiter=',')\n",
    "rows = np.where(data[:,1024]==0)\n",
    "dataB=np.empty([int(np.shape(data)[0]/2), np.shape(data)[1]])\n",
    "dataB=data[rows]\n",
    "np.savetxt(r'D:\\4-2MajorProject\\Sleep-Disorder-Classification-Using-DL\\datasets\\disease_classification\\B_phases.csv', dataB, delimiter=',')"
   ]
  },
  {
   "cell_type": "markdown",
   "metadata": {
    "id": "qaaHiJRxj6R8"
   },
   "source": [
    "### A phase"
   ]
  },
  {
   "cell_type": "code",
   "execution_count": 15,
   "metadata": {
    "id": "XC9D5iaWj6R9"
   },
   "outputs": [],
   "source": [
    "data = np.loadtxt(r'D:\\4-2MajorProject\\Sleep-Disorder-Classification-Using-DL\\datasets\\disease_classification\\both_phases.csv', delimiter=',')\n",
    "n1=int(np.shape(data)[0]/2)\n",
    "n2=int(n1/3)\n",
    "dataA=np.empty([n1, np.shape(data)[1]])\n",
    "rows = np.where(data[:,1024]==1)\n",
    "dataA[0:n2]=data[rows]\n",
    "rows = np.where(data[:,1024]==2)\n",
    "dataA[n2:2*n2]=data[rows]\n",
    "rows = np.where(data[:,1024]==3)\n",
    "dataA[2*n2:3*n2]=data[rows]\n",
    "np.savetxt(r'D:\\4-2MajorProject\\Sleep-Disorder-Classification-Using-DL\\datasets\\disease_classification\\A_phases.csv', dataA, delimiter=',')"
   ]
  }
 ],
 "metadata": {
  "colab": {
   "collapsed_sections": [],
   "name": "Dataset preparation disease classification.ipynb",
   "provenance": []
  },
  "kernelspec": {
   "display_name": "Python 3 (ipykernel)",
   "language": "python",
   "name": "python3"
  },
  "language_info": {
   "codemirror_mode": {
    "name": "ipython",
    "version": 3
   },
   "file_extension": ".py",
   "mimetype": "text/x-python",
   "name": "python",
   "nbconvert_exporter": "python",
   "pygments_lexer": "ipython3",
   "version": "3.9.5"
  }
 },
 "nbformat": 4,
 "nbformat_minor": 4
}
